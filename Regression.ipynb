{
 "cells": [
  {
   "cell_type": "code",
   "execution_count": 1,
   "id": "5f3dc547",
   "metadata": {},
   "outputs": [],
   "source": [
    "#importing all required libraries\n",
    "import pandas as pd\n",
    "import numpy as np\n",
    "from sklearn.datasets import fetch_california_housing\n",
    "from sklearn.model_selection import train_test_split\n",
    "from sklearn.metrics import mean_squared_error\n",
    "from sklearn.preprocessing import StandardScaler\n",
    "from sklearn.linear_model import LinearRegression"
   ]
  },
  {
   "cell_type": "code",
   "execution_count": 2,
   "id": "dd18ee4c",
   "metadata": {},
   "outputs": [],
   "source": [
    "cali_housing = fetch_california_housing(as_frame=True)\n",
    "sdf = cali_housing.frame\n",
    "sdf.columns = sdf.columns.str.lower()\n",
    "scaler = StandardScaler()\n",
    "df = scaler.fit_transform(sdf)\n",
    "X = df[:, :-1]\n",
    "y = df[:, -1:]\n",
    "X_train, X_test, y_train, y_test = train_test_split(X, y, test_size=0.3, random_state=1)"
   ]
  },
  {
   "cell_type": "markdown",
   "id": "63e78d98",
   "metadata": {},
   "source": [
    "From scratch implementation of Linear Regression"
   ]
  },
  {
   "cell_type": "code",
   "execution_count": 41,
   "id": "2dddc532",
   "metadata": {},
   "outputs": [],
   "source": [
    "def linReg(X, y):\n",
    "    alpha = 0.1\n",
    "    epoch = 100\n",
    "    m, n = X.shape\n",
    "    w = np.random.randn(n).reshape(n, 1)\n",
    "    b = 0\n",
    "\n",
    "    for i in range(epoch):\n",
    "        yhat = np.dot(X, w) + b\n",
    "        yhat = yhat.reshape(m, 1)\n",
    "        residual = y - yhat\n",
    "        dw = -(2*np.dot(X.T,residual))/m\n",
    "        db = -(2*np.sum(residual))/m\n",
    "        w = w - alpha*dw\n",
    "        b = b - alpha*db\n",
    "\n",
    "    return w, b"
   ]
  },
  {
   "cell_type": "markdown",
   "id": "ab9ef195",
   "metadata": {},
   "source": [
    "Comparision with the method implemented by sklearn"
   ]
  },
  {
   "cell_type": "code",
   "execution_count": 42,
   "id": "e67e3263",
   "metadata": {},
   "outputs": [],
   "source": [
    "w, b = linReg(X_train, y_train)\n",
    "ypred = np.dot(X_test, w) + b"
   ]
  },
  {
   "cell_type": "code",
   "execution_count": 43,
   "id": "7fdd1f24",
   "metadata": {},
   "outputs": [],
   "source": [
    "sklr = LinearRegression()\n",
    "sklr.fit(X_train, y_train)\n",
    "skpred = sklr.predict(X_test)"
   ]
  },
  {
   "cell_type": "code",
   "execution_count": 44,
   "id": "52bc8fcc",
   "metadata": {},
   "outputs": [
    {
     "name": "stdout",
     "output_type": "stream",
     "text": [
      "0.40854031097865096\n",
      "0.3977538926680307\n"
     ]
    }
   ],
   "source": [
    "print(mean_squared_error(y_test, ypred))\n",
    "print(mean_squared_error(y_test, skpred))"
   ]
  },
  {
   "cell_type": "markdown",
   "id": "dc8e45b9",
   "metadata": {},
   "source": [
    "From scratch implementation of Ridge (L2) Regression"
   ]
  },
  {
   "cell_type": "code",
   "execution_count": 38,
   "id": "1444fee0",
   "metadata": {},
   "outputs": [],
   "source": [
    "def RidgeReg(X, y, lam = 1):\n",
    "    alpha = 0.1\n",
    "    epoch = 100\n",
    "    m, n = X.shape\n",
    "    w = np.random.randn(n).reshape(n, 1)\n",
    "    b = 0\n",
    "    \n",
    "    for i in range(epoch):\n",
    "        yhat = np.dot(X, w) + b\n",
    "        yhat = yhat.reshape(m, 1)\n",
    "        residual = y - yhat\n",
    "        dw = -((2*np.dot(X.T,residual)) + (2*lam*w))/m\n",
    "        db = -(2*np.sum(residual))/m\n",
    "        w = w - alpha*dw\n",
    "        b = b - alpha*db\n",
    "\n",
    "    return w, b"
   ]
  },
  {
   "cell_type": "markdown",
   "id": "5f4d6b45",
   "metadata": {},
   "source": [
    "Testing with various lambda values"
   ]
  },
  {
   "cell_type": "code",
   "execution_count": 53,
   "id": "342b0a73",
   "metadata": {},
   "outputs": [
    {
     "name": "stdout",
     "output_type": "stream",
     "text": [
      "0.39981169723468496\n"
     ]
    }
   ],
   "source": [
    "rw, rb = RidgeReg(X_train, y_train, 2)\n",
    "rypred = np.dot(X_test, rw) + rb\n",
    "print(mean_squared_error(y_test, rypred))"
   ]
  },
  {
   "cell_type": "code",
   "execution_count": 54,
   "id": "e4b67de0",
   "metadata": {},
   "outputs": [
    {
     "name": "stdout",
     "output_type": "stream",
     "text": [
      "0.4009616286459957\n"
     ]
    }
   ],
   "source": [
    "rw, rb = RidgeReg(X_train, y_train, 4)\n",
    "rypred = np.dot(X_test, rw) + rb\n",
    "print(mean_squared_error(y_test, rypred))"
   ]
  },
  {
   "cell_type": "markdown",
   "id": "86d811e2",
   "metadata": {},
   "source": [
    "From scratch implementation of Lasso (L1) Regression"
   ]
  },
  {
   "cell_type": "code",
   "execution_count": 94,
   "id": "fe99ca0d",
   "metadata": {},
   "outputs": [],
   "source": [
    "def LassoReg(X, y , lam = 1):\n",
    "    alpha = 0.1\n",
    "    epoch = 100\n",
    "    m, n = X.shape\n",
    "    w = np.random.randn(n).reshape(n, 1)\n",
    "    b = 0\n",
    "    \n",
    "    for i in range(epoch):\n",
    "        yhat = np.dot(X, w) + b\n",
    "        yhat = yhat.reshape(m, 1)\n",
    "        residual = y - yhat\n",
    "        dw = -((2*np.dot(X.T,residual)))/m + lam*np.sign(w)\n",
    "        db = -(2*np.sum(residual))/m\n",
    "        w = w - alpha*dw\n",
    "        b = b - alpha*db\n",
    "\n",
    "    return w, b"
   ]
  },
  {
   "cell_type": "code",
   "execution_count": 120,
   "id": "36b2db2c",
   "metadata": {},
   "outputs": [
    {
     "name": "stdout",
     "output_type": "stream",
     "text": [
      "0.47011477905019955\n"
     ]
    }
   ],
   "source": [
    "lw, lb = LassoReg(X_train, y_train, 0.1)\n",
    "lypred = np.dot(X_test, lw) + lb\n",
    "print(mean_squared_error(y_test, lypred))"
   ]
  }
 ],
 "metadata": {
  "kernelspec": {
   "display_name": "Python 3",
   "language": "python",
   "name": "python3"
  },
  "language_info": {
   "codemirror_mode": {
    "name": "ipython",
    "version": 3
   },
   "file_extension": ".py",
   "mimetype": "text/x-python",
   "name": "python",
   "nbconvert_exporter": "python",
   "pygments_lexer": "ipython3",
   "version": "3.13.3"
  }
 },
 "nbformat": 4,
 "nbformat_minor": 5
}
