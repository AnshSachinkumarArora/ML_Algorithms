{
 "cells": [
  {
   "cell_type": "code",
   "execution_count": 1,
   "id": "5f3dc547",
   "metadata": {},
   "outputs": [],
   "source": [
    "#importing all required libraries\n",
    "import pandas as pd\n",
    "import numpy as np\n",
    "from sklearn.datasets import fetch_california_housing\n",
    "from sklearn.model_selection import train_test_split\n",
    "from sklearn.metrics import mean_squared_error\n",
    "from sklearn.preprocessing import StandardScaler\n",
    "from sklearn.linear_model import LinearRegression"
   ]
  },
  {
   "cell_type": "code",
   "execution_count": 2,
   "id": "dd18ee4c",
   "metadata": {},
   "outputs": [],
   "source": [
    "cali_housing = fetch_california_housing(as_frame=True)\n",
    "sdf = cali_housing.frame\n",
    "sdf.columns = sdf.columns.str.lower()\n",
    "scaler = StandardScaler()\n",
    "df = scaler.fit_transform(sdf)\n",
    "X = df[:, :-1]\n",
    "y = df[:, -1:]\n",
    "X_train, X_test, y_train, y_test = train_test_split(X, y, test_size=0.3, random_state=1)"
   ]
  },
  {
   "cell_type": "markdown",
   "id": "63e78d98",
   "metadata": {},
   "source": [
    "From scratch implementation of Linear Regression"
   ]
  },
  {
   "cell_type": "code",
   "execution_count": 3,
   "id": "2dddc532",
   "metadata": {},
   "outputs": [],
   "source": [
    "def linReg(X, y):\n",
    "    alpha = 0.1\n",
    "    epoch = 100\n",
    "    m, n = X.shape\n",
    "    w = np.random.randn(n).reshape(n, 1)\n",
    "    b = 0\n",
    "\n",
    "    for i in range(epoch):\n",
    "        yhat = np.dot(X, w) + b\n",
    "        yhat = yhat.reshape(m, 1)\n",
    "        loss = y - yhat\n",
    "        dw = -(2*np.dot(X.T,loss))/m\n",
    "        db = -(2*np.sum(loss))/m\n",
    "        w = w - alpha*dw\n",
    "        b = b - alpha*db\n",
    "\n",
    "    return w, b"
   ]
  },
  {
   "cell_type": "markdown",
   "id": "ab9ef195",
   "metadata": {},
   "source": [
    "Comparision with the method implemented by sklearn"
   ]
  },
  {
   "cell_type": "code",
   "execution_count": 4,
   "id": "e67e3263",
   "metadata": {},
   "outputs": [],
   "source": [
    "w, b = linReg(X_train, y_train)\n",
    "ypred = np.dot(X_test, w) + b"
   ]
  },
  {
   "cell_type": "code",
   "execution_count": 5,
   "id": "7fdd1f24",
   "metadata": {},
   "outputs": [],
   "source": [
    "sklr = LinearRegression()\n",
    "sklr.fit(X_train, y_train)\n",
    "skpred = sklr.predict(X_test)"
   ]
  },
  {
   "cell_type": "code",
   "execution_count": 6,
   "id": "52bc8fcc",
   "metadata": {},
   "outputs": [
    {
     "name": "stdout",
     "output_type": "stream",
     "text": [
      "0.4197616432554995\n",
      "0.3977538926680307\n"
     ]
    }
   ],
   "source": [
    "print(mean_squared_error(y_test, ypred))\n",
    "print(mean_squared_error(y_test, skpred))"
   ]
  }
 ],
 "metadata": {
  "kernelspec": {
   "display_name": "Python 3",
   "language": "python",
   "name": "python3"
  },
  "language_info": {
   "codemirror_mode": {
    "name": "ipython",
    "version": 3
   },
   "file_extension": ".py",
   "mimetype": "text/x-python",
   "name": "python",
   "nbconvert_exporter": "python",
   "pygments_lexer": "ipython3",
   "version": "3.13.3"
  }
 },
 "nbformat": 4,
 "nbformat_minor": 5
}
