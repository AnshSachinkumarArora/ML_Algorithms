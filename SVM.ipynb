{
 "cells": [
  {
   "cell_type": "code",
   "execution_count": 5,
   "id": "3ea18ceb",
   "metadata": {},
   "outputs": [],
   "source": [
    "#importing all required libraries\n",
    "import pandas as pd\n",
    "import numpy as np\n",
    "from sklearn.model_selection import train_test_split\n",
    "from sklearn.preprocessing import StandardScaler\n",
    "from sklearn.datasets import load_iris\n",
    "from sklearn.svm import SVC"
   ]
  },
  {
   "cell_type": "code",
   "execution_count": 6,
   "id": "fe349937",
   "metadata": {},
   "outputs": [],
   "source": [
    "X, y = load_iris(return_X_y=True)\n",
    "scaler = StandardScaler()\n",
    "modified_X = scaler.fit_transform(np.array(X[:100]))\n",
    "modified_y = np.array(y[:100])\n",
    "X_train, X_test, y_train, y_test = train_test_split(modified_X, modified_y, test_size=0.3, random_state=1)"
   ]
  },
  {
   "cell_type": "code",
   "execution_count": 7,
   "id": "2fa96950",
   "metadata": {},
   "outputs": [],
   "source": [
    "def svm(X, y, alpha = 0.001, epoch = 1000, lam = 0.01) :\n",
    "    m, n = X.shape\n",
    "    w = np.random.randn(n).reshape(n, 1)\n",
    "    b = np.random.randn()\n",
    "    y = np.expand_dims(y, axis =1)\n",
    "\n",
    "    for i in range(epoch):\n",
    "        for j in range(m):\n",
    "            x = X[j].reshape(n,1)\n",
    "            if(y[j]*(np.dot(x.T, w)-b) >= 1):\n",
    "                w -= alpha*(2*lam*w)\n",
    "            else:\n",
    "                w -= alpha*(2*lam*w - (x*y[j]))\n",
    "                b -= alpha*(y[j][0])\n",
    "    return w, b"
   ]
  },
  {
   "cell_type": "code",
   "execution_count": 8,
   "id": "00d05f26",
   "metadata": {},
   "outputs": [],
   "source": [
    "w, b = svm(X_train, y_train)\n",
    "Pred = np.dot(X_test, w)+b\n",
    "svmPred = np.abs(np.sign(np.round(Pred)))"
   ]
  },
  {
   "cell_type": "code",
   "execution_count": 9,
   "id": "0fc23d29",
   "metadata": {},
   "outputs": [
    {
     "name": "stdout",
     "output_type": "stream",
     "text": [
      "[1. 1. 0. 1. 1. 0. 0. 1. 1. 1. 1. 0. 1. 1. 1. 0. 0. 0. 1. 0. 0. 1. 1. 1.\n",
      " 0. 0. 1. 0. 0. 0.]\n",
      "[1 1 0 1 1 0 0 1 1 1 1 0 1 1 1 0 0 0 1 0 0 1 1 1 0 0 1 0 0 0]\n",
      "[ True  True  True  True  True  True  True  True  True  True  True  True\n",
      "  True  True  True  True  True  True  True  True  True  True  True  True\n",
      "  True  True  True  True  True  True]\n"
     ]
    }
   ],
   "source": [
    "for i in range(len(svmPred)):\n",
    "    if svmPred[i] == 0:\n",
    "        svmPred[i] = 1\n",
    "    else:\n",
    "        svmPred[i] = 0\n",
    "svmPred = svmPred.flatten()\n",
    "print(svmPred)\n",
    "print(y_test)\n",
    "print(svmPred == y_test)"
   ]
  }
 ],
 "metadata": {
  "kernelspec": {
   "display_name": "Python 3",
   "language": "python",
   "name": "python3"
  },
  "language_info": {
   "codemirror_mode": {
    "name": "ipython",
    "version": 3
   },
   "file_extension": ".py",
   "mimetype": "text/x-python",
   "name": "python",
   "nbconvert_exporter": "python",
   "pygments_lexer": "ipython3",
   "version": "3.13.3"
  }
 },
 "nbformat": 4,
 "nbformat_minor": 5
}
