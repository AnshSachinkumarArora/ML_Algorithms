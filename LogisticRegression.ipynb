{
 "cells": [
  {
   "cell_type": "code",
   "execution_count": null,
   "id": "cb9d2673",
   "metadata": {},
   "outputs": [],
   "source": [
    "#importing all required libraries\n",
    "import pandas as pd\n",
    "import numpy as np\n",
    "from sklearn.model_selection import train_test_split\n",
    "from sklearn.preprocessing import StandardScaler\n",
    "from sklearn.datasets import load_iris\n",
    "from sklearn.linear_model import LogisticRegression\n",
    "from sklearn.metrics import log_loss"
   ]
  },
  {
   "cell_type": "code",
   "execution_count": 2,
   "id": "fed41b94",
   "metadata": {},
   "outputs": [],
   "source": [
    "X, y = load_iris(return_X_y=True)\n",
    "scaler = StandardScaler()\n",
    "modified_X = scaler.fit_transform(np.array(X[:100]))\n",
    "modified_y = np.array(y[:100])\n",
    "X_train, X_test, y_train, y_test = train_test_split(modified_X, modified_y, test_size=0.3, random_state=1)\n",
    "clf = LogisticRegression(random_state=0).fit(X_train, y_train)"
   ]
  },
  {
   "cell_type": "markdown",
   "id": "f908973f",
   "metadata": {},
   "source": [
    "From scratch implementation of Logistic Regression"
   ]
  },
  {
   "cell_type": "code",
   "execution_count": 3,
   "id": "fff8999a",
   "metadata": {},
   "outputs": [],
   "source": [
    "def logReg(X, y):\n",
    "    alpha = 0.1\n",
    "    epoch = 10\n",
    "    m, n = X.shape\n",
    "    w = np.random.randn(n).reshape(n, 1)\n",
    "    b = np.random.randn()\n",
    "    y = np.expand_dims(y, axis =1)\n",
    "\n",
    "    for i in range(epoch):\n",
    "        z = -np.dot(X, w) + b\n",
    "        yhat = 1/(1+np.exp(z))\n",
    "        diff = np.subtract(yhat, y)\n",
    "        dw = np.dot(X.T, diff)\n",
    "        db = np.sum(diff)\n",
    "        w = w - alpha*dw\n",
    "        b = b - alpha*db\n",
    "        loss = - (y*np.log(yhat)) - ((1-y)*np.log(1-yhat))\n",
    "        #print(f\"epoch: {i}, loss: {loss}\")\n",
    "\n",
    "    return w, b"
   ]
  },
  {
   "cell_type": "markdown",
   "id": "0d13684d",
   "metadata": {},
   "source": [
    "Comparision with the method implemented by sklearn"
   ]
  },
  {
   "cell_type": "code",
   "execution_count": 4,
   "id": "1c4b4d24",
   "metadata": {},
   "outputs": [
    {
     "name": "stdout",
     "output_type": "stream",
     "text": [
      "2.220446049250313e-16\n",
      "2.220446049250313e-16\n"
     ]
    }
   ],
   "source": [
    "w,b = logReg(X_train, y_train)\n",
    "z = -np.dot(X_test, w) + b\n",
    "predict = np.round(1/(1+np.exp(z)))\n",
    "sklog = clf.predict(X_test)\n",
    "print(log_loss(y_test, predict))\n",
    "print(log_loss(y_test, sklog))"
   ]
  }
 ],
 "metadata": {
  "kernelspec": {
   "display_name": "Python 3",
   "language": "python",
   "name": "python3"
  },
  "language_info": {
   "codemirror_mode": {
    "name": "ipython",
    "version": 3
   },
   "file_extension": ".py",
   "mimetype": "text/x-python",
   "name": "python",
   "nbconvert_exporter": "python",
   "pygments_lexer": "ipython3",
   "version": "3.13.3"
  }
 },
 "nbformat": 4,
 "nbformat_minor": 5
}
