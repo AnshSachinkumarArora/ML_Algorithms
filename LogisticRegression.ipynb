{
 "cells": [
  {
   "cell_type": "code",
   "execution_count": 1,
   "id": "cb9d2673",
   "metadata": {},
   "outputs": [],
   "source": [
    "import pandas as pd\n",
    "import numpy as np\n",
    "from sklearn.model_selection import train_test_split\n",
    "from sklearn.preprocessing import StandardScaler\n",
    "from sklearn.datasets import load_iris\n",
    "from sklearn.linear_model import LogisticRegression\n",
    "from sklearn.metrics import log_loss"
   ]
  },
  {
   "cell_type": "code",
   "execution_count": 2,
   "id": "fed41b94",
   "metadata": {},
   "outputs": [],
   "source": [
    "iris = load_iris()\n",
    "data = iris.data\n",
    "targets = iris.target\n",
    "X = pd.DataFrame(data)\n",
    "y = []\n",
    "for i in range(len(targets)):\n",
    "    temp = []\n",
    "    if (targets[i] == 0): temp = np.array([1, 0, 0])\n",
    "    elif (targets[i] == 1): temp = np.array([0, 1, 0])\n",
    "    else: temp = np.array([0, 0, 1])\n",
    "    y.append(temp)\n",
    "y = pd.DataFrame(y)\n",
    "X_train, X_test, y_train, y_test = train_test_split(X, y, test_size=0.3, random_state=1)"
   ]
  },
  {
   "cell_type": "code",
   "execution_count": 3,
   "id": "fff8999a",
   "metadata": {},
   "outputs": [],
   "source": [
    "def logReg(X, y):\n",
    "    alpha = 0.1\n",
    "    epoch = 10\n",
    "    m, n = X.shape\n",
    "    w = np.random.randn(n, 3)\n",
    "    b = 0\n",
    "\n",
    "    for i in range(epoch):\n",
    "        z = np.dot(X, w) + b\n",
    "        yhat = np.exp(z)/np.sum(np.exp(z))\n",
    "        dw = -(np.dot(X.T, (y-yhat)))/m\n",
    "        loss = -(np.sum(y*np.log(yhat), axis=0))/m\n",
    "        w = w - alpha*dw\n",
    "        print(loss)"
   ]
  },
  {
   "cell_type": "code",
   "execution_count": null,
   "id": "1c4b4d24",
   "metadata": {},
   "outputs": [],
   "source": []
  }
 ],
 "metadata": {
  "kernelspec": {
   "display_name": "Python 3",
   "language": "python",
   "name": "python3"
  },
  "language_info": {
   "codemirror_mode": {
    "name": "ipython",
    "version": 3
   },
   "file_extension": ".py",
   "mimetype": "text/x-python",
   "name": "python",
   "nbconvert_exporter": "python",
   "pygments_lexer": "ipython3",
   "version": "3.13.3"
  }
 },
 "nbformat": 4,
 "nbformat_minor": 5
}
